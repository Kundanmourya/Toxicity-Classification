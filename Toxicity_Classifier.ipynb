{
 "cells": [
  {
   "cell_type": "code",
   "execution_count": null,
   "metadata": {},
   "outputs": [],
   "source": [
    "!pip install matplotlib\n",
    "!pip install nltk"
   ]
  },
  {
   "cell_type": "code",
   "execution_count": 3,
   "metadata": {
    "id": "OU7SWI8xJh3a"
   },
   "outputs": [],
   "source": [
    "import pandas as pd\n",
    "import numpy as np\n",
    "import matplotlib.pyplot as plt \n",
    "%matplotlib inline"
   ]
  },
  {
   "cell_type": "code",
   "execution_count": 4,
   "metadata": {
    "id": "ux8Dn7XpMW1M"
   },
   "outputs": [],
   "source": [
    "data = pd.read_csv(\"FinalBalancedDataset.csv\")"
   ]
  },
  {
   "cell_type": "code",
   "execution_count": null,
   "metadata": {
    "colab": {
     "base_uri": "https://localhost:8080/"
    },
    "id": "ZsQ9WzgJMil5",
    "outputId": "95954769-982d-4680-cc98-49f32bdfd985"
   },
   "outputs": [],
   "source": [
    "data.info()"
   ]
  },
  {
   "cell_type": "code",
   "execution_count": null,
   "metadata": {
    "colab": {
     "base_uri": "https://localhost:8080/",
     "height": 206
    },
    "id": "tW8F_G5mMkBe",
    "outputId": "c0d97990-5a76-46f3-a0cb-484fb10090ca"
   },
   "outputs": [],
   "source": [
    "data.head(5)"
   ]
  },
  {
   "cell_type": "code",
   "execution_count": 7,
   "metadata": {
    "id": "f21hV25RMmGn"
   },
   "outputs": [],
   "source": [
    "data = data.drop(\"Unnamed: 0\", axis=1)"
   ]
  },
  {
   "cell_type": "code",
   "execution_count": null,
   "metadata": {
    "colab": {
     "base_uri": "https://localhost:8080/",
     "height": 206
    },
    "id": "0jw2yvTkMrSs",
    "outputId": "344a26f6-1a29-4c1e-cb16-f37284faf022"
   },
   "outputs": [],
   "source": [
    "data.head(5)"
   ]
  },
  {
   "cell_type": "code",
   "execution_count": null,
   "metadata": {
    "colab": {
     "base_uri": "https://localhost:8080/"
    },
    "id": "sNGX6xFBMssC",
    "outputId": "b727de57-73b8-4a78-fe1c-193fef52684b"
   },
   "outputs": [],
   "source": [
    "data['Toxicity'].value_counts()"
   ]
  },
  {
   "cell_type": "code",
   "execution_count": null,
   "metadata": {
    "colab": {
     "base_uri": "https://localhost:8080/"
    },
    "id": "A-VzDWf-Myjt",
    "outputId": "4389d105-9f44-402d-b2b3-23cc6d01fdee"
   },
   "outputs": [],
   "source": [
    "import nltk\n",
    "nltk.download('punkt')\n",
    "nltk.download('omw-1.4')\n",
    "nltk.download('wordnet')\n",
    "nltk.download('stopwords')\n",
    "nltk.download('averaged_perceptron_tagger')\n",
    "from nltk import WordNetLemmatizer\n",
    "from nltk import pos_tag, word_tokenize\n",
    "from nltk.corpus import stopwords as nltk_stopwords\n",
    "from nltk.corpus import wordnet"
   ]
  },
  {
   "cell_type": "markdown",
   "metadata": {
    "id": "jToYvVpvNOm5"
   },
   "source": [
    "## Lemmatizer\n",
    "1. Leaves\n",
    "2. Leafs\n",
    "Leaf"
   ]
  },
  {
   "cell_type": "markdown",
   "metadata": {
    "id": "mWDjwiT9Qxf0"
   },
   "source": [
    "## Text pre-processing"
   ]
  },
  {
   "cell_type": "code",
   "execution_count": 11,
   "metadata": {
    "id": "bw_J1RlaNhPC"
   },
   "outputs": [],
   "source": [
    "wordnet_lemmatizer = WordNetLemmatizer()"
   ]
  },
  {
   "cell_type": "code",
   "execution_count": 12,
   "metadata": {
    "id": "V1XjDeHlN9WG"
   },
   "outputs": [],
   "source": [
    "import re"
   ]
  },
  {
   "cell_type": "code",
   "execution_count": 13,
   "metadata": {
    "id": "yTMwwHISNoLE"
   },
   "outputs": [],
   "source": [
    "def prepare_text(text):\n",
    "    def get_wordnet_pos(treebank_tag):\n",
    "        if treebank_tag.startswith('J'):\n",
    "            return wordnet.ADJ\n",
    "        elif treebank_tag.startswith('V'):\n",
    "            return wordnet.VERB\n",
    "        elif treebank_tag.startswith('N'):\n",
    "            return wordnet.NOUN\n",
    "        elif treebank_tag.startswith('R'):\n",
    "            return wordnet.ADV\n",
    "        else:\n",
    "            return wordnet.NOUN\n",
    "    text = re.sub(r'[^a-zA-Z\\']', ' ', text)\n",
    "    text = text.split()\n",
    "    text = ' '.join(text)\n",
    "    text = word_tokenize(text)\n",
    "    text = pos_tag(text)\n",
    "    lemma = []\n",
    "    for i in text: lemma.append(wordnet_lemmatizer.lemmatize(i[0], pos = get_wordnet_pos(i[1])))\n",
    "    lemma = ' '.join(lemma)\n",
    "    return lemma"
   ]
  },
  {
   "cell_type": "code",
   "execution_count": null,
   "metadata": {
    "id": "0eO6r4KoOJWi"
   },
   "outputs": [],
   "source": [
    "data['clean_tweets'] = data['tweet'].apply(lambda x: prepare_text(x))"
   ]
  },
  {
   "cell_type": "code",
   "execution_count": null,
   "metadata": {
    "colab": {
     "base_uri": "https://localhost:8080/",
     "height": 206
    },
    "id": "bD5JoV3cOWwC",
    "outputId": "90362692-a72a-43c7-e237-d64accdd1c30"
   },
   "outputs": [],
   "source": [
    "data.head(5)"
   ]
  },
  {
   "cell_type": "markdown",
   "metadata": {
    "id": "P_KtZVgNQtNF"
   },
   "source": [
    "## Tfidf for features"
   ]
  },
  {
   "cell_type": "code",
   "execution_count": 21,
   "metadata": {
    "id": "Y0NaPpiBOoKz"
   },
   "outputs": [],
   "source": [
    "from sklearn.feature_extraction.text import TfidfVectorizer\n",
    "from sklearn.model_selection import train_test_split \n",
    "from sklearn.naive_bayes import MultinomialNB\n",
    "from sklearn.metrics import roc_auc_score\n",
    "from sklearn.metrics import roc_curve"
   ]
  },
  {
   "cell_type": "code",
   "execution_count": null,
   "metadata": {
    "id": "hyQ_YaHTPOY9"
   },
   "outputs": [],
   "source": [
    "corpus = data['clean_tweets'].values.astype('U')"
   ]
  },
  {
   "cell_type": "code",
   "execution_count": 17,
   "metadata": {
    "id": "_WzC3BdKPdco"
   },
   "outputs": [],
   "source": [
    "stopwords = set(nltk_stopwords.words('english'))"
   ]
  },
  {
   "cell_type": "code",
   "execution_count": 18,
   "metadata": {
    "id": "AHi3KB6DPlpD"
   },
   "outputs": [],
   "source": [
    "count_tf_idf = TfidfVectorizer(stop_words = stopwords)\n",
    "tf_idf = count_tf_idf.fit_transform(corpus)"
   ]
  },
  {
   "cell_type": "code",
   "execution_count": 19,
   "metadata": {
    "id": "1Q8110GEPyan"
   },
   "outputs": [],
   "source": [
    "import pickle"
   ]
  },
  {
   "cell_type": "code",
   "execution_count": 21,
   "metadata": {
    "id": "-iWeOZ_SP_1d"
   },
   "outputs": [],
   "source": [
    "pickle.dump(count_tf_idf, open(\"tf_idf.pkt\", \"wb\"))"
   ]
  },
  {
   "cell_type": "code",
   "execution_count": 22,
   "metadata": {
    "id": "htB2CjewQKID"
   },
   "outputs": [],
   "source": [
    "tf_idf_train, tf_idf_test, target_train, target_test = train_test_split(\n",
    "    tf_idf, data['Toxicity'], test_size = 0.8, random_state= 42, shuffle=True\n",
    ")"
   ]
  },
  {
   "cell_type": "markdown",
   "metadata": {
    "id": "c0-Cg6p0Qpgo"
   },
   "source": [
    "## Create a Binary Classification Model"
   ]
  },
  {
   "cell_type": "code",
   "execution_count": 23,
   "metadata": {
    "id": "Qom6FLiAQnxj"
   },
   "outputs": [],
   "source": [
    "model_bayes = MultinomialNB()"
   ]
  },
  {
   "cell_type": "code",
   "execution_count": 24,
   "metadata": {
    "id": "vL3lmsK_Q3E3"
   },
   "outputs": [],
   "source": [
    "model_bayes = model_bayes.fit(tf_idf_train, target_train)"
   ]
  },
  {
   "cell_type": "code",
   "execution_count": 25,
   "metadata": {
    "id": "v3OackkiQ_w9"
   },
   "outputs": [],
   "source": [
    "y_pred_proba = model_bayes.predict_proba(tf_idf_test)[::, 1]"
   ]
  },
  {
   "cell_type": "code",
   "execution_count": null,
   "metadata": {
    "colab": {
     "base_uri": "https://localhost:8080/"
    },
    "id": "oxYgRZ1pRK6F",
    "outputId": "ddb11532-43ea-4092-f9e8-478015c7a7de"
   },
   "outputs": [],
   "source": [
    "y_pred_proba"
   ]
  },
  {
   "cell_type": "code",
   "execution_count": 27,
   "metadata": {
    "id": "ff_uDpB0RL0u"
   },
   "outputs": [],
   "source": [
    "fpr, tpr, _ = roc_curve(target_test, y_pred_proba)"
   ]
  },
  {
   "cell_type": "code",
   "execution_count": 28,
   "metadata": {
    "id": "ZDkRbR0FRVPR"
   },
   "outputs": [],
   "source": [
    "final_roc_auc = roc_auc_score(target_test, y_pred_proba)"
   ]
  },
  {
   "cell_type": "code",
   "execution_count": null,
   "metadata": {
    "colab": {
     "base_uri": "https://localhost:8080/"
    },
    "id": "7Np8WoL8RdTU",
    "outputId": "5899223b-0377-486b-a300-899cb8676d25"
   },
   "outputs": [],
   "source": [
    "final_roc_auc"
   ]
  },
  {
   "cell_type": "code",
   "execution_count": null,
   "metadata": {
    "colab": {
     "base_uri": "https://localhost:8080/",
     "height": 52
    },
    "id": "mwxbdiFiRenL",
    "outputId": "fe4db2e1-216c-4a0b-fd39-fcb544b42da0"
   },
   "outputs": [],
   "source": [
    "test_text = \"I hate you moron\"\n",
    "test_tfidf = count_tf_idf.transform([test_text])\n",
    "display(model_bayes.predict_proba(test_tfidf))\n",
    "display(model_bayes.predict(test_tfidf))"
   ]
  },
  {
   "cell_type": "markdown",
   "metadata": {
    "id": "9RcDE-QPSTdL"
   },
   "source": [
    "## Save the model"
   ]
  },
  {
   "cell_type": "code",
   "execution_count": 32,
   "metadata": {
    "id": "1acnhnVzR-KL"
   },
   "outputs": [],
   "source": [
    "pickle.dump(model_bayes, open(\"toxicity_model.pkt\", \"wb\"))"
   ]
  },
  {
   "cell_type": "code",
   "execution_count": null,
   "metadata": {
    "id": "de3OUE2AScCS"
   },
   "outputs": [],
   "source": []
  }
 ],
 "metadata": {
  "colab": {
   "provenance": []
  },
  "kernelspec": {
   "display_name": ".venv",
   "language": "python",
   "name": "python3"
  },
  "language_info": {
   "codemirror_mode": {
    "name": "ipython",
    "version": 3
   },
   "file_extension": ".py",
   "mimetype": "text/x-python",
   "name": "python",
   "nbconvert_exporter": "python",
   "pygments_lexer": "ipython3",
   "version": "3.12.8"
  }
 },
 "nbformat": 4,
 "nbformat_minor": 0
}
